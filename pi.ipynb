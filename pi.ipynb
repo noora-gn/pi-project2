{
 "metadata": {
  "language_info": {
   "codemirror_mode": {
    "name": "ipython",
    "version": 3
   },
   "file_extension": ".py",
   "mimetype": "text/x-python",
   "name": "python",
   "nbconvert_exporter": "python",
   "pygments_lexer": "ipython3",
   "version": "3.7.4-final"
  },
  "orig_nbformat": 2,
  "kernelspec": {
   "name": "python3",
   "display_name": "Python 3.7.4 64-bit ('anaconda3': virtualenv)",
   "metadata": {
    "interpreter": {
     "hash": "da411b43746f6cb96672593c658c77db02c2153872c5ee535920b11f955e3fbe"
    }
   }
  }
 },
 "nbformat": 4,
 "nbformat_minor": 2,
 "cells": [
  {
   "cell_type": "code",
   "execution_count": null,
   "metadata": {},
   "outputs": [],
   "source": []
  },
  {
   "cell_type": "code",
   "execution_count": null,
   "metadata": {},
   "outputs": [],
   "source": [
    "2+2"
   ]
  },
  {
   "cell_type": "code",
   "execution_count": null,
   "metadata": {},
   "outputs": [],
   "source": [
    "import math \n",
    "import random \n",
    "\n",
    "hits = 0\n",
    "throws = 10**7\n",
    "\n",
    "i = 0\n",
    "while i < throws:\n",
    "  i = i + 1\n",
    "\n",
    "  x = random.random()\n",
    "  y = random.random()\n",
    "\n",
    "  rSquared = x**2+y**2\n",
    "  if rSquared < 1:\n",
    "    hits = hits + 1\n",
    "\n",
    "pi = 4.0*float(hits)/float(throws)\n",
    "print(pi)\n"
   ]
  },
  {
   "cell_type": "code",
   "execution_count": null,
   "metadata": {},
   "outputs": [],
   "source": []
  }
 ]
}